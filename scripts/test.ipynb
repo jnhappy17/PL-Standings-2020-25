import os
import json
import requests
import pandas as pd
from mysql import connector
from dotenv import dotenv

